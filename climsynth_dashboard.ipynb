{
 "cells": [
  {
   "cell_type": "code",
   "execution_count": 1,
   "metadata": {
    "extensions": {
     "jupyter_dashboards": {
      "version": 1,
      "views": {
       "grid_default": {},
       "report_default": {}
      }
     }
    }
   },
   "outputs": [],
   "source": [
    "%matplotlib widget\n",
    "import matplotlib.pyplot as plt"
   ]
  },
  {
   "cell_type": "code",
   "execution_count": 2,
   "metadata": {},
   "outputs": [],
   "source": [
    "import ee\n",
    "service_account = 'climate-hazard-demo@data-portal-adaptation.iam.gserviceaccount.com'\n",
    "credentials = ee.ServiceAccountCredentials(service_account, '../dataportal/data-portal-adaptation.json')"
   ]
  },
  {
   "cell_type": "code",
   "execution_count": 3,
   "metadata": {
    "extensions": {
     "jupyter_dashboards": {
      "version": 1,
      "views": {
       "grid_default": {},
       "report_default": {}
      }
     }
    },
    "scrolled": true
   },
   "outputs": [],
   "source": [
    "# GEE authentication using service account key stored in local directory\n",
    "ee.Initialize(credentials)"
   ]
  },
  {
   "cell_type": "code",
   "execution_count": 4,
   "metadata": {
    "extensions": {
     "jupyter_dashboards": {
      "version": 1,
      "views": {
       "grid_default": {},
       "report_default": {}
      }
     }
    }
   },
   "outputs": [],
   "source": [
    "import geemap\n",
    "from ipyleaflet import CircleMarker, Polygon, LayersControl, DrawControl, ZoomControl\n",
    "from ipywidgets import interact, interactive, interact_manual, Layout, Accordion\n",
    "import ipywidgets as widgets\n",
    "import sys, asyncio, codecs, json\n",
    "import numpy as np\n",
    "from midiutil import MIDIFile\n",
    "from music21 import midi"
   ]
  },
  {
   "cell_type": "code",
   "execution_count": 5,
   "metadata": {},
   "outputs": [],
   "source": [
    "# Create decorator to prevent events triggers while slider is being moved\n",
    "# From https://ipywidgets.readthedocs.io/en/latest/examples/Widget%20Events.html\n",
    "class Timer:\n",
    "    def __init__(self, timeout, callback):\n",
    "        self._timeout = timeout\n",
    "        self._callback = callback\n",
    "\n",
    "    async def _job(self):\n",
    "        await asyncio.sleep(self._timeout)\n",
    "        self._callback()\n",
    "\n",
    "    def start(self):\n",
    "        self._task = asyncio.ensure_future(self._job())\n",
    "\n",
    "    def cancel(self):\n",
    "        self._task.cancel()\n",
    "\n",
    "def debounce(wait):\n",
    "    \"\"\" Decorator that will postpone a function's\n",
    "        execution until after `wait` seconds\n",
    "        have elapsed since the last time it was invoked. \"\"\"\n",
    "    def decorator(fn):\n",
    "        timer = None\n",
    "        def debounced(*args, **kwargs):\n",
    "            nonlocal timer\n",
    "            def call_it():\n",
    "                fn(*args, **kwargs)\n",
    "            if timer is not None:\n",
    "                timer.cancel()\n",
    "            timer = Timer(wait, call_it)\n",
    "            timer.start()\n",
    "        return debounced\n",
    "    return decorator"
   ]
  },
  {
   "cell_type": "code",
   "execution_count": 6,
   "metadata": {
    "extensions": {
     "jupyter_dashboards": {
      "version": 1,
      "views": {
       "grid_default": {},
       "report_default": {}
      }
     }
    },
    "scrolled": true
   },
   "outputs": [],
   "source": [
    "# HAZARD INFO\n",
    "\n",
    "hazards = {\n",
    "    'maxtemp': {\n",
    "         'keyname': 'maxtemp',\n",
    "        'short_displayname': 'mxT',\n",
    "         'displayname': 'maximum annual temperature',\n",
    "        'unit': 'C',\n",
    "         'min': -10,\n",
    "         'max': 60,\n",
    "         'use_greaterthan': True,\n",
    "         'years': list(range(2020, 2100)),\n",
    "         'num_bins': 70,\n",
    "         'bin_width': 1,\n",
    "         'hazard_category': 'heat',\n",
    "        'narrative_phrase': 'temperatures as high as {:.0f} C'\n",
    "    },\n",
    "    'mintemp': {\n",
    "         'keyname': 'mintemp',\n",
    "        'short_displayname': 'mnT',\n",
    "         'displayname': 'minimum annual temperature',\n",
    "        'unit': 'C',\n",
    "         'min': -110,\n",
    "         'max': 46,\n",
    "         'use_greaterthan': False,\n",
    "         'years': list(range(2020, 2100)),\n",
    "         'num_bins': 78,\n",
    "         'bin_width': 2,\n",
    "         'hazard_category': 'cold',\n",
    "        'narrative_phrase': 'temperatures as low as {:.0f} C'\n",
    "    },\n",
    "    'maxprecip': {\n",
    "        'keyname': 'maxprecip',\n",
    "        'short_displayname': 'mxPR',\n",
    "         'displayname': 'maximum daily precipitation',\n",
    "        'unit': 'mm',\n",
    "         'min': 0,\n",
    "         'max': 4000,\n",
    "         'use_greaterthan': True,\n",
    "         'years': list(range(2020, 2100)),\n",
    "         'num_bins': 80,\n",
    "         'bin_width': 20,\n",
    "         'hazard_category': 'precipitation',\n",
    "        'narrative_phrase': 'as many as {:.0f} mm precipitation in a day'\n",
    "    },\n",
    "    'maxdryspell': {\n",
    "        'keyname': 'maxdryspell',\n",
    "        'short_displayname': 'mxDS',\n",
    "        'displayname': 'max dryspell duration',\n",
    "        'unit': 'days',\n",
    "        'min': 0,\n",
    "        'max': 365,\n",
    "        'use_greaterthan': True,\n",
    "        'years': list(range(2020, 2100)),\n",
    "        'num_bins': 73,\n",
    "        'bin_width': 5,\n",
    "        'hazard_category': 'drought',\n",
    "        'narrative_phrase': 'dryspells of up to {:.0f} days'\n",
    "    },\n",
    "    'mtt35': {\n",
    "        'keyname': 'mtt35',\n",
    "        'short_displayname': 'MTT35',\n",
    "        'displayname': 'days temp above 35',\n",
    "        'unit': 'days',\n",
    "        'min': 0,\n",
    "        'max': 300,\n",
    "        'use_greaterthan': True,\n",
    "        'years': list(range(2020, 2100)),\n",
    "        'num_bins': 74,\n",
    "        'bin_width': 5,\n",
    "        'hazard_category': 'heat',\n",
    "        'narrative_phrase': \"as many as {:.0f} days above 35 C\"\n",
    "    },\n",
    "    'modlandslide': {\n",
    "        'keyname': 'modlandslide',\n",
    "        'short_displayname': 'LS',\n",
    "        'displayname': 'days moderate landslide risk',\n",
    "        'unit': 'days',\n",
    "        'min': 0,\n",
    "        'max': 300,\n",
    "        'use_greaterthan': True,\n",
    "        'years': list(range(2020, 2100)),\n",
    "        'num_bins': 60,\n",
    "        'bin_width': 5,\n",
    "        'hazard_category': 'landslide',\n",
    "        'narrative_phrase': 'as many as {:.0f} days of moderate-to-high landslide risk'\n",
    "    }\n",
    "}\n",
    "\n",
    "hazard_data = {hazard: {\n",
    "    'probs': ee.ImageCollection('users/tedwongwri/dataportal/posterior_probs/{}'.format(hazard)),\n",
    "    'tprobs': ee.ImageCollection('users/tedwongwri/dataportal/thresholdposterior_probs/{}'.format(hazard)),\n",
    "    }\n",
    "    for hazard in hazards.keys()\n",
    "}"
   ]
  },
  {
   "cell_type": "code",
   "execution_count": 7,
   "metadata": {},
   "outputs": [],
   "source": [
    "def ev(year, hazard):\n",
    "# Return expected value of hazard for given year\n",
    "    probs = hazard_data[hazard]['probs'].filterMetadata('year', 'equals', year).first().reduceRegion(reducer=ee.Reducer.mean(), geometry=current_geom, scale=250, bestEffort=True).getInfo()\n",
    "    if np.sum([float(i) for i in probs.values()]) == 0:\n",
    "        return 0, 1\n",
    "    dataprobs = np.array([float(i) for i in probs.values()]) / np.sum([float(i) for i in probs.values()])\n",
    "    mag_range = [(j.split('-')[0], j.split('-')[1]) for j in [i.split('_')[1] for i in list(probs.keys())]]\n",
    "    avg_mags = np.array([(float(i[0].replace('neg', '-')) + float(i[1].replace('neg', '-'))) / 2 for i in mag_range])\n",
    "    ev = np.dot(dataprobs, avg_mags) \n",
    "    return ev"
   ]
  },
  {
   "cell_type": "code",
   "execution_count": 8,
   "metadata": {
    "extensions": {
     "jupyter_dashboards": {
      "version": 1,
      "views": {
       "grid_default": {},
       "report_default": {}
      }
     }
    }
   },
   "outputs": [],
   "source": [
    "# DATA AND INITIAL SETTINGS\n",
    "\n",
    "initial_threshold = 30\n",
    "min_threshold = 5\n",
    "max_threshold = 50\n",
    "threshold_interval = 5\n",
    "DEFAULT_CURRENTYEAR = 2022\n",
    "currentYear = DEFAULT_CURRENTYEAR\n",
    "futureYear = 2050\n",
    "prev_threshold_current = initial_threshold\n",
    "prev_threshold_future = initial_threshold\n",
    "prev_futureYear = 2050\n",
    "\n",
    "prev_layers = []\n",
    "\n",
    "persistent_threshold_value = initial_threshold\n",
    "persistent_ev_current = None\n",
    "persistent_ev_future = None\n",
    "persistent_threshold_value = initial_threshold\n",
    "#initial_coords = [50.85045, 4.34878]  # Brussels\n",
    "initial_coords = [-70.575, -33.383333] # Vitacura  -- Give as lat, lon\n",
    "current_geom = ee.Geometry.Point(initial_coords)\n",
    "current_location_marker = None\n",
    "ev_val = 'expected'\n",
    "mode_is_ev = False\n",
    "\n",
    "auto_thresholds = True\n",
    "percentilebased_lookup_thresholds = {\n",
    "    hn: hazards[hn]['min'] for hn in hazards.keys()\n",
    "}\n",
    "hazard_threshold_sliders = {}\n",
    "userdefined_lookup_thresholds = {\n",
    "    hn: hazards[hn]['min'] for hn in hazards.keys()\n",
    "}\n",
    "highrisk_categories = {'current': [], 'future': []}\n",
    "user_ever_defined = False\n",
    "\n",
    "current_hazard = 'maxtemp'\n",
    "\n",
    "MAPprobs = hazard_data[current_hazard]['tprobs']\n",
    "currentprobs = MAPprobs.filterMetadata('year', 'equals', currentYear).first()\n",
    "futureprobs = MAPprobs.filterMetadata('year', 'equals', futureYear).first()\n",
    "\n",
    "def update_data():\n",
    "    global MAPprobs\n",
    "    global currentprobs\n",
    "    global futureprobs\n",
    "    MAPprobs = hazard_data[current_hazard]['tprobs']\n",
    "    currentprobs = MAPprobs.filterMetadata('year', 'equals', currentYear).first()\n",
    "    futureprobs = MAPprobs.filterMetadata('year', 'equals', futureYear).first()"
   ]
  },
  {
   "cell_type": "code",
   "execution_count": 35,
   "metadata": {},
   "outputs": [],
   "source": [
    "# SOUNDS\n",
    "\n",
    "def make_midi(): \n",
    "    update_status('Processing high temps')\n",
    "    hightemps = [ev(year, 'maxtemp') for year in range(2022, 2100)]\n",
    "    update_status('Processing low temps')\n",
    "    lowtemps = [ev(year, 'mintemp') for year in range(2022, 2100)]\n",
    "    update_status('Processing precip')\n",
    "    maxprecips = [ev(year, 'maxprecip') for year in range(2022, 2100)]\n",
    "    update_status('Creating sound file')\n",
    "    highpiano_degrees  = [max(round((temp/50)*127), 0) for temp in hightemps]  # MIDI note number 0-127\n",
    "    lowpiano_degrees  = [max(round(temp + 30), 0) for temp in lowtemps]\n",
    "    cello_degrees = [max(round((precip - 300)*0.7), 0) for precip in maxprecips]\n",
    "\n",
    "\n",
    "    track    = 0\n",
    "    channel  = 0\n",
    "    time     = 0    # In beats\n",
    "    duration = 1    # In beats\n",
    "    tempo    = 240   # In BPM\n",
    "    volume   = 80  # 0-127, as per the MIDI standard\n",
    "\n",
    "    outMIDI = MIDIFile(2)  # One track, defaults to format 1 (tempo track is created\n",
    "                      # automatically)\n",
    "    outMIDI.addTempo(track, time, tempo)\n",
    "    outMIDI.addTimeSignature(track, time, 4, 2, 24, 8)\n",
    "    outMIDI.addProgramChange(0, 0, 0, 0)\n",
    "    outMIDI.addProgramChange(1, 1, 0, 45)\n",
    "\n",
    "    track = 0\n",
    "    channel = 0\n",
    "    for i, pitch in enumerate(highpiano_degrees):\n",
    "        outMIDI.addNote(track, channel, pitch, time + i, duration, volume)\n",
    "\n",
    "\n",
    "\n",
    "    running_duration = 1\n",
    "    pitch_first_time = 0\n",
    "    track = 0\n",
    "    channel = 0\n",
    "    for i in range(len(lowpiano_degrees) - 1):\n",
    "        pitch = lowpiano_degrees[i]\n",
    "        next_pitch = lowpiano_degrees[i+1]\n",
    "        if (pitch != next_pitch) or (i % 4 == 3):\n",
    "            outMIDI.addNote(track, channel, pitch + 35, pitch_first_time, running_duration, round(volume*1))\n",
    "            running_duration = 1\n",
    "            pitch_first_time = i + 1\n",
    "        else:\n",
    "            running_duration += 1\n",
    "\n",
    "    running_duration = 1\n",
    "    pitch_first_time = 0\n",
    "    track = 1\n",
    "    channel = 1\n",
    "    for i in range(len(cello_degrees) - 1):\n",
    "        pitch = cello_degrees[i]\n",
    "        next_pitch = cello_degrees[i+1]\n",
    "        if (pitch != next_pitch) or (i % 4 == 3):\n",
    "            outMIDI.addNote(track, channel, pitch+5, pitch_first_time, running_duration, round(volume*1))\n",
    "            running_duration = 1\n",
    "            pitch_first_time = i + 1\n",
    "        else:\n",
    "            running_duration += 1\n",
    "\n",
    "    with open(\"midi_out.mid\", \"wb\") as output_file:\n",
    "        outMIDI.writeFile(output_file)\n",
    "    update_status('Ready')"
   ]
  },
  {
   "cell_type": "code",
   "execution_count": 10,
   "metadata": {},
   "outputs": [],
   "source": [
    "def playMidi(filename):\n",
    "    mf = midi.MidiFile()\n",
    "    mf.open(filename)\n",
    "    mf.read()\n",
    "    mf.close()\n",
    "    s = midi.translate.midiFileToStream(mf)\n",
    "    s.show('midi')"
   ]
  },
  {
   "cell_type": "code",
   "execution_count": 11,
   "metadata": {},
   "outputs": [],
   "source": [
    "def showMidi(filename):\n",
    "    mf = midi.MidiFile()\n",
    "    mf.open(filename)\n",
    "    mf.read()\n",
    "    mf.close()\n",
    "    s = midi.translate.midiFileToStream(mf)\n",
    "    s.show()"
   ]
  },
  {
   "cell_type": "code",
   "execution_count": 12,
   "metadata": {
    "scrolled": false
   },
   "outputs": [],
   "source": [
    "def make_music():\n",
    "    make_midi()\n",
    "    playMidi('midi_out.mid')"
   ]
  },
  {
   "cell_type": "code",
   "execution_count": 13,
   "metadata": {},
   "outputs": [],
   "source": [
    "# MAP\n",
    "\n",
    "def latlon_to_lonlat(coords):\n",
    "# Converts EE coords (x, y) to ipyleaflet coords (y, x)\n",
    "# Works for geojson coords\n",
    "    if type(coords[0]) == float:\n",
    "        return [coords[1], coords[0]]\n",
    "    else:\n",
    "        return [[[i[1],i[0]] for i in j] for j in coords]\n",
    "\n",
    "upload_button = widgets.FileUpload(\n",
    "    accept = '.geojson',  # Accepted file extension e.g. '.txt', '.pdf', 'image/*', 'image/*,.pdf'\n",
    "    multiple = False,  # True to accept multiple files upload else False\n",
    "    description = 'GeoJSON'\n",
    ")\n",
    "\n",
    "Map = geemap.Map(center=latlon_to_lonlat(initial_coords), zoom=3)\n",
    "Map.add_basemap('HYBRID')\n",
    "\n",
    "Map.clear_controls()\n",
    "layer_control = LayersControl(position='topright')\n",
    "Map.add_control(layer_control)\n",
    "Map.add_control(ZoomControl(position='bottomright'))\n",
    "draw_control = DrawControl(circle={}, polyline={}, rectangle={}, position='topleft')\n",
    "Map.add_control(draw_control)\n",
    "\n",
    "current_location_marker = CircleMarker(location=latlon_to_lonlat(initial_coords), name=\"location of interest\")\n",
    "Map.add_layer(current_location_marker)\n",
    "\n",
    "vizParamsC = {\n",
    "  'bands': ['threshold_' + str(initial_threshold)],\n",
    "  'min': 0,\n",
    "  'max': 1,\n",
    "  'palette': ['000000', '909000'],\n",
    "  'opacity': 0.5\n",
    "}\n",
    "vizParamsF = {\n",
    "  'bands': ['threshold_' + str(initial_threshold)],\n",
    "  'min': 0,\n",
    "  'max': 1,\n",
    "  'palette': ['000000', 'ff0000'],\n",
    "  'opacity': 0.5\n",
    "}\n",
    "    \n",
    "def update_location(geom):\n",
    "    global current_geom\n",
    "    global current_location_marker\n",
    "    Map.remove_layer(current_location_marker)\n",
    "    draw_control.clear()\n",
    "    new_geom = geom\n",
    "    if new_geom['type'] == 'Point':\n",
    "        current_geom = ee.Geometry.Point(new_geom['coordinates'])\n",
    "        ipl_loc = latlon_to_lonlat(new_geom['coordinates'])\n",
    "        current_location_marker = CircleMarker(location=latlon_to_lonlat(new_geom['coordinates']), name=\"location of interest\")\n",
    "        Map.add_layer(current_location_marker)\n",
    "    else:\n",
    "        current_geom = ee.Geometry.Polygon(new_geom['coordinates'])\n",
    "        current_location_marker = Polygon(locations=latlon_to_lonlat(new_geom['coordinates']), name=\"location of interest\")\n",
    "        Map.add_layer(current_location_marker)\n",
    "        \n",
    "def drawcontrol_update(e):\n",
    "    update_location(draw_control.last_draw['geometry'])\n",
    "\n",
    "@debounce(0.5)\n",
    "def uploadbutton_update(e):\n",
    "    f = upload_button.data[-1]\n",
    "    file_content = json.loads(codecs.decode(f, encoding=\"utf-8\"))\n",
    "    update_location(file_content['features'][0]['geometry'])\n",
    "    polygon_coords = current_geom.coordinates().getInfo()[0]\n",
    "    exes = np.array([i[0] for i in polygon_coords])\n",
    "    whys = np.array([i[1] for i in polygon_coords])\n",
    "    Map.setCenter(lat=np.mean(whys), lon=np.mean(exes))\n",
    "    Map.set_trait('zoom', 9)\n",
    "\n",
    "\n",
    "draw_control.observe(drawcontrol_update)\n",
    "upload_button.observe(uploadbutton_update)"
   ]
  },
  {
   "cell_type": "code",
   "execution_count": 14,
   "metadata": {},
   "outputs": [],
   "source": [
    "# STATUS\n",
    "status_box = widgets.HTML()\n",
    "def update_status(msg):\n",
    "    html = '<div style=\"padding:20px; font-size:20pt\"><br /><br /><br /><br />{}</div>'.format(str(msg))\n",
    "    status_box.set_trait('value', html)"
   ]
  },
  {
   "cell_type": "code",
   "execution_count": 15,
   "metadata": {},
   "outputs": [],
   "source": [
    "# TAB LAYOUT\n",
    "map_box = widgets.VBox([upload_button, Map], layout=Layout(width='600px', height='600px'))\n",
    "dashboard = widgets.HBox([map_box, status_box], layout=Layout(width='1600px', height='600px'))"
   ]
  },
  {
   "cell_type": "code",
   "execution_count": 16,
   "metadata": {
    "scrolled": false
   },
   "outputs": [
    {
     "data": {
      "application/vnd.jupyter.widget-view+json": {
       "model_id": "54ebcd7f1bd84386985c24b4d7621854",
       "version_major": 2,
       "version_minor": 0
      },
      "text/plain": [
       "HBox(children=(VBox(children=(FileUpload(value={}, accept='.geojson', description='GeoJSON'), Map(center=[-33.…"
      ]
     },
     "metadata": {},
     "output_type": "display_data"
    }
   ],
   "source": [
    "dashboard"
   ]
  },
  {
   "cell_type": "code",
   "execution_count": 36,
   "metadata": {
    "scrolled": true
   },
   "outputs": [
    {
     "data": {
      "text/html": [
       "\n",
       "                <div id='midiPlayerDiv26854'></div>\n",
       "                <link rel=\"stylesheet\" href=\"//cuthbertLab.github.io/music21j/css/m21.css\"\n",
       "                    type=\"text/css\" />\n",
       "                <script>\n",
       "                require.config({\n",
       "                    paths: {'music21': '//cuthbertLab.github.io/music21j/src/music21'}\n",
       "                });\n",
       "                require(['music21'], function() {\n",
       "                               mp = new music21.miditools.MidiPlayer();\n",
       "                               mp.addPlayer('#midiPlayerDiv26854');\n",
       "                               mp.base64Load('data:audio/midi;base64,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');\n",
       "                        });\n",
       "                </script>"
      ],
      "text/plain": [
       "<IPython.core.display.HTML object>"
      ]
     },
     "metadata": {},
     "output_type": "display_data"
    }
   ],
   "source": [
    "make_music()"
   ]
  },
  {
   "cell_type": "code",
   "execution_count": null,
   "metadata": {},
   "outputs": [],
   "source": []
  }
 ],
 "metadata": {
  "extensions": {
   "jupyter_dashboards": {
    "activeView": "grid_default",
    "version": 1,
    "views": {
     "grid_default": {
      "cellMargin": 10,
      "defaultCellHeight": 20,
      "maxColumns": 12,
      "name": "grid",
      "type": "grid"
     },
     "report_default": {
      "name": "report",
      "type": "report"
     }
    }
   }
  },
  "kernelspec": {
   "display_name": "Python 3",
   "language": "python",
   "name": "python3"
  },
  "language_info": {
   "codemirror_mode": {
    "name": "ipython",
    "version": 3
   },
   "file_extension": ".py",
   "mimetype": "text/x-python",
   "name": "python",
   "nbconvert_exporter": "python",
   "pygments_lexer": "ipython3",
   "version": "3.8.5"
  }
 },
 "nbformat": 4,
 "nbformat_minor": 4
}
