{
 "cells": [
  {
   "cell_type": "code",
   "execution_count": 1,
   "metadata": {
    "extensions": {
     "jupyter_dashboards": {
      "version": 1,
      "views": {
       "grid_default": {},
       "report_default": {}
      }
     }
    }
   },
   "outputs": [],
   "source": [
    "%matplotlib widget\n",
    "import matplotlib.pyplot as plt"
   ]
  },
  {
   "cell_type": "code",
   "execution_count": 2,
   "metadata": {},
   "outputs": [],
   "source": [
    "import ee\n",
    "service_account = 'climate-hazard-demo@data-portal-adaptation.iam.gserviceaccount.com'\n",
    "credentials = ee.ServiceAccountCredentials(service_account, '../dataportal/data-portal-adaptation.json')"
   ]
  },
  {
   "cell_type": "code",
   "execution_count": 3,
   "metadata": {
    "extensions": {
     "jupyter_dashboards": {
      "version": 1,
      "views": {
       "grid_default": {},
       "report_default": {}
      }
     }
    },
    "scrolled": true
   },
   "outputs": [],
   "source": [
    "# GEE authentication using service account key stored in local directory\n",
    "ee.Initialize(credentials)"
   ]
  },
  {
   "cell_type": "code",
   "execution_count": 4,
   "metadata": {
    "extensions": {
     "jupyter_dashboards": {
      "version": 1,
      "views": {
       "grid_default": {},
       "report_default": {}
      }
     }
    }
   },
   "outputs": [],
   "source": [
    "import geemap\n",
    "from ipyleaflet import CircleMarker, Polygon, LayersControl, DrawControl, ZoomControl\n",
    "from ipywidgets import interact, interactive, interact_manual, Layout, Accordion\n",
    "import ipywidgets as widgets\n",
    "import sys, asyncio, codecs, json\n",
    "import numpy as np\n",
    "from midiutil import MIDIFile\n",
    "from music21 import midi"
   ]
  },
  {
   "cell_type": "code",
   "execution_count": 5,
   "metadata": {},
   "outputs": [],
   "source": [
    "# Create decorator to prevent events triggers while slider is being moved\n",
    "# From https://ipywidgets.readthedocs.io/en/latest/examples/Widget%20Events.html\n",
    "class Timer:\n",
    "    def __init__(self, timeout, callback):\n",
    "        self._timeout = timeout\n",
    "        self._callback = callback\n",
    "\n",
    "    async def _job(self):\n",
    "        await asyncio.sleep(self._timeout)\n",
    "        self._callback()\n",
    "\n",
    "    def start(self):\n",
    "        self._task = asyncio.ensure_future(self._job())\n",
    "\n",
    "    def cancel(self):\n",
    "        self._task.cancel()\n",
    "\n",
    "def debounce(wait):\n",
    "    \"\"\" Decorator that will postpone a function's\n",
    "        execution until after `wait` seconds\n",
    "        have elapsed since the last time it was invoked. \"\"\"\n",
    "    def decorator(fn):\n",
    "        timer = None\n",
    "        def debounced(*args, **kwargs):\n",
    "            nonlocal timer\n",
    "            def call_it():\n",
    "                fn(*args, **kwargs)\n",
    "            if timer is not None:\n",
    "                timer.cancel()\n",
    "            timer = Timer(wait, call_it)\n",
    "            timer.start()\n",
    "        return debounced\n",
    "    return decorator"
   ]
  },
  {
   "cell_type": "code",
   "execution_count": 6,
   "metadata": {
    "extensions": {
     "jupyter_dashboards": {
      "version": 1,
      "views": {
       "grid_default": {},
       "report_default": {}
      }
     }
    },
    "scrolled": true
   },
   "outputs": [],
   "source": [
    "# HAZARD INFO\n",
    "\n",
    "hazards = {\n",
    "    'maxtemp': {\n",
    "         'keyname': 'maxtemp',\n",
    "        'short_displayname': 'mxT',\n",
    "         'displayname': 'maximum annual temperature',\n",
    "        'unit': 'C',\n",
    "         'min': -10,\n",
    "         'max': 60,\n",
    "         'use_greaterthan': True,\n",
    "         'years': list(range(2020, 2100)),\n",
    "         'num_bins': 70,\n",
    "         'bin_width': 1,\n",
    "         'hazard_category': 'heat',\n",
    "        'narrative_phrase': 'temperatures as high as {:.0f} C'\n",
    "    },\n",
    "    'mintemp': {\n",
    "         'keyname': 'mintemp',\n",
    "        'short_displayname': 'mnT',\n",
    "         'displayname': 'minimum annual temperature',\n",
    "        'unit': 'C',\n",
    "         'min': -110,\n",
    "         'max': 46,\n",
    "         'use_greaterthan': False,\n",
    "         'years': list(range(2020, 2100)),\n",
    "         'num_bins': 78,\n",
    "         'bin_width': 2,\n",
    "         'hazard_category': 'cold',\n",
    "        'narrative_phrase': 'temperatures as low as {:.0f} C'\n",
    "    },\n",
    "    'maxprecip': {\n",
    "        'keyname': 'maxprecip',\n",
    "        'short_displayname': 'mxPR',\n",
    "         'displayname': 'maximum daily precipitation',\n",
    "        'unit': 'mm',\n",
    "         'min': 0,\n",
    "         'max': 4000,\n",
    "         'use_greaterthan': True,\n",
    "         'years': list(range(2020, 2100)),\n",
    "         'num_bins': 80,\n",
    "         'bin_width': 20,\n",
    "         'hazard_category': 'precipitation',\n",
    "        'narrative_phrase': 'as many as {:.0f} mm precipitation in a day'\n",
    "    }\n",
    "}\n",
    "\n",
    "hazard_data = {hazard: {\n",
    "    'probs': ee.ImageCollection('users/tedwongwri/dataportal/posterior_probs/{}'.format(hazard)),\n",
    "    'tprobs': ee.ImageCollection('users/tedwongwri/dataportal/thresholdposterior_probs/{}'.format(hazard)),\n",
    "    }\n",
    "    for hazard in hazards.keys()\n",
    "}"
   ]
  },
  {
   "cell_type": "code",
   "execution_count": 7,
   "metadata": {},
   "outputs": [],
   "source": [
    "def ev(year, hazard):\n",
    "# Return expected value of hazard for given year\n",
    "    probs = hazard_data[hazard]['probs'].filterMetadata('year', 'equals', year).first().reduceRegion(reducer=ee.Reducer.mean(), geometry=current_geom, scale=250, bestEffort=True).getInfo()\n",
    "    if np.sum([float(i) for i in probs.values()]) == 0:\n",
    "        return 0, 1\n",
    "    dataprobs = np.array([float(i) for i in probs.values()]) / np.sum([float(i) for i in probs.values()])\n",
    "    mag_range = [(j.split('-')[0], j.split('-')[1]) for j in [i.split('_')[1] for i in list(probs.keys())]]\n",
    "    avg_mags = np.array([(float(i[0].replace('neg', '-')) + float(i[1].replace('neg', '-'))) / 2 for i in mag_range])\n",
    "    ev = np.dot(dataprobs, avg_mags) \n",
    "    return ev"
   ]
  },
  {
   "cell_type": "code",
   "execution_count": 8,
   "metadata": {
    "extensions": {
     "jupyter_dashboards": {
      "version": 1,
      "views": {
       "grid_default": {},
       "report_default": {}
      }
     }
    }
   },
   "outputs": [],
   "source": [
    "# DATA AND INITIAL SETTINGS\n",
    "\n",
    "initial_threshold = 30\n",
    "min_threshold = 5\n",
    "max_threshold = 50\n",
    "threshold_interval = 5\n",
    "DEFAULT_CURRENTYEAR = 2022\n",
    "currentYear = DEFAULT_CURRENTYEAR\n",
    "futureYear = 2050\n",
    "prev_threshold_current = initial_threshold\n",
    "prev_threshold_future = initial_threshold\n",
    "prev_futureYear = 2050\n",
    "\n",
    "prev_layers = []\n",
    "\n",
    "persistent_threshold_value = initial_threshold\n",
    "persistent_ev_current = None\n",
    "persistent_ev_future = None\n",
    "persistent_threshold_value = initial_threshold\n",
    "#initial_coords = [50.85045, 4.34878]  # Brussels\n",
    "initial_coords = [-70.575, -33.383333] # Vitacura  -- Give as lat, lon\n",
    "current_geom = ee.Geometry.Point(initial_coords)\n",
    "current_location_marker = None\n",
    "ev_val = 'expected'\n",
    "mode_is_ev = False\n",
    "\n",
    "auto_thresholds = True\n",
    "percentilebased_lookup_thresholds = {\n",
    "    hn: hazards[hn]['min'] for hn in hazards.keys()\n",
    "}\n",
    "hazard_threshold_sliders = {}\n",
    "userdefined_lookup_thresholds = {\n",
    "    hn: hazards[hn]['min'] for hn in hazards.keys()\n",
    "}\n",
    "highrisk_categories = {'current': [], 'future': []}\n",
    "user_ever_defined = False\n",
    "\n",
    "current_hazard = 'maxtemp'\n",
    "\n",
    "MAPprobs = hazard_data[current_hazard]['tprobs']\n",
    "currentprobs = MAPprobs.filterMetadata('year', 'equals', currentYear).first()\n",
    "futureprobs = MAPprobs.filterMetadata('year', 'equals', futureYear).first()\n",
    "\n",
    "def update_data():\n",
    "    global MAPprobs\n",
    "    global currentprobs\n",
    "    global futureprobs\n",
    "    MAPprobs = hazard_data[current_hazard]['tprobs']\n",
    "    currentprobs = MAPprobs.filterMetadata('year', 'equals', currentYear).first()\n",
    "    futureprobs = MAPprobs.filterMetadata('year', 'equals', futureYear).first()"
   ]
  },
  {
   "cell_type": "code",
   "execution_count": 72,
   "metadata": {},
   "outputs": [],
   "source": [
    "# SOUNDS\n",
    "\n",
    "def make_midi():\n",
    "    update_status('Processing high temps')\n",
    "    hightemps = [ev(year, 'maxtemp') for year in range(2022, 2100)]\n",
    "    update_status('Processing low temps')\n",
    "    lowtemps = [ev(year, 'mintemp') for year in range(2022, 2100)]\n",
    "    update_status('Processing precip')\n",
    "    maxprecips = [ev(year, 'maxprecip') for year in range(2022, 2100)]\n",
    "    update_status('Creating sound file')\n",
    "    hightemp_degrees  = [max(round((temp/50)*127), 0) for temp in hightemps]  # MIDI note number 0-127\n",
    "    lowtemp_degrees  = [max(round(temp + 30), 0) for temp in lowtemps]\n",
    "    maxprecip_degrees = [max(round(precip - 300), 0) for precip in maxprecips]\n",
    "    \n",
    "    track    = 0\n",
    "    channel  = 0\n",
    "    time     = 0    # In beats\n",
    "    duration = 1    # In beats\n",
    "    tempo    = 240   # In BPM\n",
    "    volume   = 80  # 0-127, as per the MIDI standard\n",
    "\n",
    "    outMIDI = MIDIFile(2)  # One track, defaults to format 1 (tempo track is created\n",
    "                      # automatically)\n",
    "    outMIDI.addTempo(track, time, tempo)\n",
    "    outMIDI.addTimeSignature(track, time, 4, 2, 24, 8)\n",
    "    outMIDI.addProgramChange(0, 0, 0, 0)\n",
    "    outMIDI.addProgramChange(1, 1, 0, 45)\n",
    "\n",
    "    track = 0\n",
    "    channel = 0\n",
    "    for i, pitch in enumerate(hightemp_degrees):\n",
    "        outMIDI.addNote(track, channel, pitch, time + i, duration, volume)\n",
    "    \n",
    "    running_duration = 1\n",
    "    pitch_first_time = 0\n",
    "    track = 0\n",
    "    channel = 0\n",
    "    for i in range(len(maxprecip_degrees) - 1):\n",
    "        pitch = maxprecip_degrees[i]\n",
    "        next_pitch = maxprecip_degrees[i+1]\n",
    "        if (pitch != next_pitch) or (i % 4 == 3):\n",
    "            outMIDI.addNote(track, channel, pitch + 10, pitch_first_time, running_duration, round(volume*2/3))\n",
    "            running_duration = 1\n",
    "            pitch_first_time = i + 1\n",
    "        else:\n",
    "            running_duration += 1\n",
    "            \n",
    "    running_duration = 1\n",
    "    pitch_first_time = 0\n",
    "    track = 1\n",
    "    channel = 1\n",
    "    for i in range(len(lowtemp_degrees) - 1):\n",
    "        pitch = lowtemp_degrees[i]\n",
    "        next_pitch = lowtemp_degrees[i+1]\n",
    "        if (pitch != next_pitch) or (i % 4 == 3):\n",
    "            outMIDI.addNote(track, channel, pitch + 35, pitch_first_time, running_duration, round(volume*1))\n",
    "            running_duration = 1\n",
    "            pitch_first_time = i + 1\n",
    "        else:\n",
    "            running_duration += 1\n",
    "\n",
    "    with open(\"midi_out.mid\", \"wb\") as output_file:\n",
    "        outMIDI.writeFile(output_file)\n",
    "    update_status('Ready')"
   ]
  },
  {
   "cell_type": "code",
   "execution_count": 10,
   "metadata": {},
   "outputs": [],
   "source": [
    "def playMidi(filename):\n",
    "    mf = midi.MidiFile()\n",
    "    mf.open(filename)\n",
    "    mf.read()\n",
    "    mf.close()\n",
    "    s = midi.translate.midiFileToStream(mf)\n",
    "    s.show('midi')"
   ]
  },
  {
   "cell_type": "code",
   "execution_count": 11,
   "metadata": {},
   "outputs": [],
   "source": [
    "def showMidi(filename):\n",
    "    mf = midi.MidiFile()\n",
    "    mf.open(filename)\n",
    "    mf.read()\n",
    "    mf.close()\n",
    "    s = midi.translate.midiFileToStream(mf)\n",
    "    s.show()"
   ]
  },
  {
   "cell_type": "code",
   "execution_count": 12,
   "metadata": {
    "scrolled": false
   },
   "outputs": [],
   "source": [
    "def make_music():\n",
    "    make_midi()\n",
    "    playMidi('midi_out.mid')"
   ]
  },
  {
   "cell_type": "code",
   "execution_count": 13,
   "metadata": {},
   "outputs": [],
   "source": [
    "# MAP\n",
    "\n",
    "def latlon_to_lonlat(coords):\n",
    "# Converts EE coords (x, y) to ipyleaflet coords (y, x)\n",
    "# Works for geojson coords\n",
    "    if type(coords[0]) == float:\n",
    "        return [coords[1], coords[0]]\n",
    "    else:\n",
    "        return [[[i[1],i[0]] for i in j] for j in coords]\n",
    "\n",
    "upload_button = widgets.FileUpload(\n",
    "    accept = '.geojson',  # Accepted file extension e.g. '.txt', '.pdf', 'image/*', 'image/*,.pdf'\n",
    "    multiple = False,  # True to accept multiple files upload else False\n",
    "    description = 'GeoJSON'\n",
    ")\n",
    "\n",
    "Map = geemap.Map(center=latlon_to_lonlat(initial_coords), zoom=3)\n",
    "Map.add_basemap('HYBRID')\n",
    "\n",
    "Map.clear_controls()\n",
    "layer_control = LayersControl(position='topright')\n",
    "Map.add_control(layer_control)\n",
    "Map.add_control(ZoomControl(position='bottomright'))\n",
    "draw_control = DrawControl(circle={}, polyline={}, rectangle={}, position='topleft')\n",
    "Map.add_control(draw_control)\n",
    "\n",
    "current_location_marker = CircleMarker(location=latlon_to_lonlat(initial_coords), name=\"location of interest\")\n",
    "Map.add_layer(current_location_marker)\n",
    "\n",
    "vizParamsC = {\n",
    "  'bands': ['threshold_' + str(initial_threshold)],\n",
    "  'min': 0,\n",
    "  'max': 1,\n",
    "  'palette': ['000000', '909000'],\n",
    "  'opacity': 0.5\n",
    "}\n",
    "vizParamsF = {\n",
    "  'bands': ['threshold_' + str(initial_threshold)],\n",
    "  'min': 0,\n",
    "  'max': 1,\n",
    "  'palette': ['000000', 'ff0000'],\n",
    "  'opacity': 0.5\n",
    "}\n",
    "    \n",
    "def update_location(geom):\n",
    "    global current_geom\n",
    "    global current_location_marker\n",
    "    Map.remove_layer(current_location_marker)\n",
    "    draw_control.clear()\n",
    "    new_geom = geom\n",
    "    if new_geom['type'] == 'Point':\n",
    "        current_geom = ee.Geometry.Point(new_geom['coordinates'])\n",
    "        ipl_loc = latlon_to_lonlat(new_geom['coordinates'])\n",
    "        current_location_marker = CircleMarker(location=latlon_to_lonlat(new_geom['coordinates']), name=\"location of interest\")\n",
    "        Map.add_layer(current_location_marker)\n",
    "    else:\n",
    "        current_geom = ee.Geometry.Polygon(new_geom['coordinates'])\n",
    "        current_location_marker = Polygon(locations=latlon_to_lonlat(new_geom['coordinates']), name=\"location of interest\")\n",
    "        Map.add_layer(current_location_marker)\n",
    "        \n",
    "def drawcontrol_update(e):\n",
    "    update_location(draw_control.last_draw['geometry'])\n",
    "\n",
    "@debounce(0.5)\n",
    "def uploadbutton_update(e):\n",
    "    f = upload_button.data[-1]\n",
    "    file_content = json.loads(codecs.decode(f, encoding=\"utf-8\"))\n",
    "    update_location(file_content['features'][0]['geometry'])\n",
    "    polygon_coords = current_geom.coordinates().getInfo()[0]\n",
    "    exes = np.array([i[0] for i in polygon_coords])\n",
    "    whys = np.array([i[1] for i in polygon_coords])\n",
    "    Map.setCenter(lat=np.mean(whys), lon=np.mean(exes))\n",
    "    Map.set_trait('zoom', 9)\n",
    "\n",
    "\n",
    "draw_control.observe(drawcontrol_update)\n",
    "upload_button.observe(uploadbutton_update)"
   ]
  },
  {
   "cell_type": "code",
   "execution_count": 14,
   "metadata": {},
   "outputs": [],
   "source": [
    "# STATUS\n",
    "status_box = widgets.HTML()\n",
    "def update_status(msg):\n",
    "    html = '<div style=\"padding:20px; font-size:20pt\"><br /><br /><br /><br />{}</div>'.format(str(msg))\n",
    "    status_box.set_trait('value', html)"
   ]
  },
  {
   "cell_type": "code",
   "execution_count": 15,
   "metadata": {},
   "outputs": [],
   "source": [
    "# TAB LAYOUT\n",
    "map_box = widgets.VBox([upload_button, Map], layout=Layout(width='600px', height='600px'))\n",
    "dashboard = widgets.HBox([map_box, status_box], layout=Layout(width='1600px', height='600px'))"
   ]
  },
  {
   "cell_type": "code",
   "execution_count": 16,
   "metadata": {
    "scrolled": false
   },
   "outputs": [
    {
     "data": {
      "application/vnd.jupyter.widget-view+json": {
       "model_id": "4c59ffab42234018895d56257a6009d3",
       "version_major": 2,
       "version_minor": 0
      },
      "text/plain": [
       "HBox(children=(VBox(children=(FileUpload(value={}, accept='.geojson', description='GeoJSON'), Map(center=[-33.…"
      ]
     },
     "metadata": {},
     "output_type": "display_data"
    }
   ],
   "source": [
    "dashboard"
   ]
  },
  {
   "cell_type": "code",
   "execution_count": 83,
   "metadata": {
    "scrolled": true
   },
   "outputs": [
    {
     "ename": "IndexError",
     "evalue": "pop from empty list",
     "output_type": "error",
     "traceback": [
      "\u001b[1;31m---------------------------------------------------------------------------\u001b[0m",
      "\u001b[1;31mIndexError\u001b[0m                                Traceback (most recent call last)",
      "\u001b[1;32m<ipython-input-83-d19cdbb14a7b>\u001b[0m in \u001b[0;36m<module>\u001b[1;34m\u001b[0m\n\u001b[1;32m----> 1\u001b[1;33m \u001b[0mmake_music\u001b[0m\u001b[1;33m(\u001b[0m\u001b[1;33m)\u001b[0m\u001b[1;33m\u001b[0m\u001b[1;33m\u001b[0m\u001b[0m\n\u001b[0m",
      "\u001b[1;32m<ipython-input-12-5c66373c7951>\u001b[0m in \u001b[0;36mmake_music\u001b[1;34m()\u001b[0m\n\u001b[0;32m      1\u001b[0m \u001b[1;32mdef\u001b[0m \u001b[0mmake_music\u001b[0m\u001b[1;33m(\u001b[0m\u001b[1;33m)\u001b[0m\u001b[1;33m:\u001b[0m\u001b[1;33m\u001b[0m\u001b[1;33m\u001b[0m\u001b[0m\n\u001b[1;32m----> 2\u001b[1;33m     \u001b[0mmake_midi\u001b[0m\u001b[1;33m(\u001b[0m\u001b[1;33m)\u001b[0m\u001b[1;33m\u001b[0m\u001b[1;33m\u001b[0m\u001b[0m\n\u001b[0m\u001b[0;32m      3\u001b[0m     \u001b[0mplayMidi\u001b[0m\u001b[1;33m(\u001b[0m\u001b[1;34m'midi_out.mid'\u001b[0m\u001b[1;33m)\u001b[0m\u001b[1;33m\u001b[0m\u001b[1;33m\u001b[0m\u001b[0m\n",
      "\u001b[1;32m<ipython-input-72-ef2f8216c6aa>\u001b[0m in \u001b[0;36mmake_midi\u001b[1;34m()\u001b[0m\n\u001b[0;32m     61\u001b[0m \u001b[1;33m\u001b[0m\u001b[0m\n\u001b[0;32m     62\u001b[0m     \u001b[1;32mwith\u001b[0m \u001b[0mopen\u001b[0m\u001b[1;33m(\u001b[0m\u001b[1;34m\"midi_out.mid\"\u001b[0m\u001b[1;33m,\u001b[0m \u001b[1;34m\"wb\"\u001b[0m\u001b[1;33m)\u001b[0m \u001b[1;32mas\u001b[0m \u001b[0moutput_file\u001b[0m\u001b[1;33m:\u001b[0m\u001b[1;33m\u001b[0m\u001b[1;33m\u001b[0m\u001b[0m\n\u001b[1;32m---> 63\u001b[1;33m         \u001b[0moutMIDI\u001b[0m\u001b[1;33m.\u001b[0m\u001b[0mwriteFile\u001b[0m\u001b[1;33m(\u001b[0m\u001b[0moutput_file\u001b[0m\u001b[1;33m)\u001b[0m\u001b[1;33m\u001b[0m\u001b[1;33m\u001b[0m\u001b[0m\n\u001b[0m\u001b[0;32m     64\u001b[0m     \u001b[0mupdate_status\u001b[0m\u001b[1;33m(\u001b[0m\u001b[1;34m'Ready'\u001b[0m\u001b[1;33m)\u001b[0m\u001b[1;33m\u001b[0m\u001b[1;33m\u001b[0m\u001b[0m\n",
      "\u001b[1;32mc:\\users\\theodore.wong\\appdata\\local\\programs\\python\\python38-32\\lib\\site-packages\\midiutil\\MidiFile.py\u001b[0m in \u001b[0;36mwriteFile\u001b[1;34m(self, fileHandle)\u001b[0m\n\u001b[0;32m   1635\u001b[0m \u001b[1;33m\u001b[0m\u001b[0m\n\u001b[0;32m   1636\u001b[0m         \u001b[1;31m# Close the tracks and have them create the MIDI event data structures.\u001b[0m\u001b[1;33m\u001b[0m\u001b[1;33m\u001b[0m\u001b[1;33m\u001b[0m\u001b[0m\n\u001b[1;32m-> 1637\u001b[1;33m         \u001b[0mself\u001b[0m\u001b[1;33m.\u001b[0m\u001b[0mclose\u001b[0m\u001b[1;33m(\u001b[0m\u001b[1;33m)\u001b[0m\u001b[1;33m\u001b[0m\u001b[1;33m\u001b[0m\u001b[0m\n\u001b[0m\u001b[0;32m   1638\u001b[0m \u001b[1;33m\u001b[0m\u001b[0m\n\u001b[0;32m   1639\u001b[0m         \u001b[1;31m# Write the MIDI Events to file.\u001b[0m\u001b[1;33m\u001b[0m\u001b[1;33m\u001b[0m\u001b[1;33m\u001b[0m\u001b[0m\n",
      "\u001b[1;32mc:\\users\\theodore.wong\\appdata\\local\\programs\\python\\python38-32\\lib\\site-packages\\midiutil\\MidiFile.py\u001b[0m in \u001b[0;36mclose\u001b[1;34m(self)\u001b[0m\n\u001b[0;32m   1686\u001b[0m \u001b[1;33m\u001b[0m\u001b[0m\n\u001b[0;32m   1687\u001b[0m         \u001b[1;32mfor\u001b[0m \u001b[0mi\u001b[0m \u001b[1;32min\u001b[0m \u001b[0mrange\u001b[0m\u001b[1;33m(\u001b[0m\u001b[1;36m0\u001b[0m\u001b[1;33m,\u001b[0m \u001b[0mself\u001b[0m\u001b[1;33m.\u001b[0m\u001b[0mnumTracks\u001b[0m\u001b[1;33m)\u001b[0m\u001b[1;33m:\u001b[0m\u001b[1;33m\u001b[0m\u001b[1;33m\u001b[0m\u001b[0m\n\u001b[1;32m-> 1688\u001b[1;33m             \u001b[0mself\u001b[0m\u001b[1;33m.\u001b[0m\u001b[0mtracks\u001b[0m\u001b[1;33m[\u001b[0m\u001b[0mi\u001b[0m\u001b[1;33m]\u001b[0m\u001b[1;33m.\u001b[0m\u001b[0mcloseTrack\u001b[0m\u001b[1;33m(\u001b[0m\u001b[1;33m)\u001b[0m\u001b[1;33m\u001b[0m\u001b[1;33m\u001b[0m\u001b[0m\n\u001b[0m\u001b[0;32m   1689\u001b[0m             \u001b[1;31m# We want things like program changes to come before notes when\u001b[0m\u001b[1;33m\u001b[0m\u001b[1;33m\u001b[0m\u001b[1;33m\u001b[0m\u001b[0m\n\u001b[0;32m   1690\u001b[0m             \u001b[1;31m# they are at the same time, so we sort the MIDI events by both\u001b[0m\u001b[1;33m\u001b[0m\u001b[1;33m\u001b[0m\u001b[1;33m\u001b[0m\u001b[0m\n",
      "\u001b[1;32mc:\\users\\theodore.wong\\appdata\\local\\programs\\python\\python38-32\\lib\\site-packages\\midiutil\\MidiFile.py\u001b[0m in \u001b[0;36mcloseTrack\u001b[1;34m(self)\u001b[0m\n\u001b[0;32m    824\u001b[0m             \u001b[0mself\u001b[0m\u001b[1;33m.\u001b[0m\u001b[0mremoveDuplicates\u001b[0m\u001b[1;33m(\u001b[0m\u001b[1;33m)\u001b[0m\u001b[1;33m\u001b[0m\u001b[1;33m\u001b[0m\u001b[0m\n\u001b[0;32m    825\u001b[0m \u001b[1;33m\u001b[0m\u001b[0m\n\u001b[1;32m--> 826\u001b[1;33m         \u001b[0mself\u001b[0m\u001b[1;33m.\u001b[0m\u001b[0mprocessEventList\u001b[0m\u001b[1;33m(\u001b[0m\u001b[1;33m)\u001b[0m\u001b[1;33m\u001b[0m\u001b[1;33m\u001b[0m\u001b[0m\n\u001b[0m\u001b[0;32m    827\u001b[0m \u001b[1;33m\u001b[0m\u001b[0m\n\u001b[0;32m    828\u001b[0m     \u001b[1;32mdef\u001b[0m \u001b[0mwriteMIDIStream\u001b[0m\u001b[1;33m(\u001b[0m\u001b[0mself\u001b[0m\u001b[1;33m)\u001b[0m\u001b[1;33m:\u001b[0m\u001b[1;33m\u001b[0m\u001b[1;33m\u001b[0m\u001b[0m\n",
      "\u001b[1;32mc:\\users\\theodore.wong\\appdata\\local\\programs\\python\\python38-32\\lib\\site-packages\\midiutil\\MidiFile.py\u001b[0m in \u001b[0;36mprocessEventList\u001b[1;34m(self)\u001b[0m\n\u001b[0;32m    787\u001b[0m \u001b[1;33m\u001b[0m\u001b[0m\n\u001b[0;32m    788\u001b[0m         \u001b[1;32mif\u001b[0m \u001b[0mself\u001b[0m\u001b[1;33m.\u001b[0m\u001b[0mdeinterleave\u001b[0m\u001b[1;33m:\u001b[0m\u001b[1;33m\u001b[0m\u001b[1;33m\u001b[0m\u001b[0m\n\u001b[1;32m--> 789\u001b[1;33m             \u001b[0mself\u001b[0m\u001b[1;33m.\u001b[0m\u001b[0mdeInterleaveNotes\u001b[0m\u001b[1;33m(\u001b[0m\u001b[1;33m)\u001b[0m\u001b[1;33m\u001b[0m\u001b[1;33m\u001b[0m\u001b[0m\n\u001b[0m\u001b[0;32m    790\u001b[0m \u001b[1;33m\u001b[0m\u001b[0m\n\u001b[0;32m    791\u001b[0m     \u001b[1;32mdef\u001b[0m \u001b[0mremoveDuplicates\u001b[0m\u001b[1;33m(\u001b[0m\u001b[0mself\u001b[0m\u001b[1;33m)\u001b[0m\u001b[1;33m:\u001b[0m\u001b[1;33m\u001b[0m\u001b[1;33m\u001b[0m\u001b[0m\n",
      "\u001b[1;32mc:\\users\\theodore.wong\\appdata\\local\\programs\\python\\python38-32\\lib\\site-packages\\midiutil\\MidiFile.py\u001b[0m in \u001b[0;36mdeInterleaveNotes\u001b[1;34m(self)\u001b[0m\n\u001b[0;32m    887\u001b[0m                         \u001b[0mtempEventList\u001b[0m\u001b[1;33m.\u001b[0m\u001b[0mappend\u001b[0m\u001b[1;33m(\u001b[0m\u001b[0mevent\u001b[0m\u001b[1;33m)\u001b[0m\u001b[1;33m\u001b[0m\u001b[1;33m\u001b[0m\u001b[0m\n\u001b[0;32m    888\u001b[0m                     \u001b[1;32melse\u001b[0m\u001b[1;33m:\u001b[0m\u001b[1;33m\u001b[0m\u001b[1;33m\u001b[0m\u001b[0m\n\u001b[1;32m--> 889\u001b[1;33m                         \u001b[0mstack\u001b[0m\u001b[1;33m[\u001b[0m\u001b[0mnoteeventkey\u001b[0m\u001b[1;33m]\u001b[0m\u001b[1;33m.\u001b[0m\u001b[0mpop\u001b[0m\u001b[1;33m(\u001b[0m\u001b[1;33m)\u001b[0m\u001b[1;33m\u001b[0m\u001b[1;33m\u001b[0m\u001b[0m\n\u001b[0m\u001b[0;32m    890\u001b[0m                         \u001b[0mtempEventList\u001b[0m\u001b[1;33m.\u001b[0m\u001b[0mappend\u001b[0m\u001b[1;33m(\u001b[0m\u001b[0mevent\u001b[0m\u001b[1;33m)\u001b[0m\u001b[1;33m\u001b[0m\u001b[1;33m\u001b[0m\u001b[0m\n\u001b[0;32m    891\u001b[0m             \u001b[1;32melse\u001b[0m\u001b[1;33m:\u001b[0m\u001b[1;33m\u001b[0m\u001b[1;33m\u001b[0m\u001b[0m\n",
      "\u001b[1;31mIndexError\u001b[0m: pop from empty list"
     ]
    }
   ],
   "source": [
    "make_music()"
   ]
  },
  {
   "cell_type": "code",
   "execution_count": 84,
   "metadata": {},
   "outputs": [],
   "source": [
    "update_status('Processing high temps')\n",
    "hightemps = [ev(year, 'maxtemp') for year in range(2022, 2100)]\n",
    "update_status('Processing low temps')\n",
    "lowtemps = [ev(year, 'mintemp') for year in range(2022, 2100)]\n",
    "update_status('Processing precip')\n",
    "maxprecips = [ev(year, 'maxprecip') for year in range(2022, 2100)]\n",
    "update_status('Creating sound file')\n",
    "hightemp_degrees  = [max(round((temp/50)*127), 0) for temp in hightemps]  # MIDI note number 0-127\n",
    "lowtemp_degrees  = [max(round(temp + 30), 0) for temp in lowtemps]\n",
    "maxprecip_degrees = [max(round(precip - 300), 0) for precip in maxprecips]\n",
    "\n",
    "track    = 0\n",
    "channel  = 0\n",
    "time     = 0    # In beats\n",
    "duration = 1    # In beats\n",
    "tempo    = 240   # In BPM\n",
    "volume   = 80  # 0-127, as per the MIDI standard\n",
    "\n",
    "outMIDI = MIDIFile(2)  # One track, defaults to format 1 (tempo track is created\n",
    "                  # automatically)\n",
    "outMIDI.addTempo(track, time, tempo)\n",
    "outMIDI.addTimeSignature(track, time, 4, 2, 24, 8)\n",
    "outMIDI.addProgramChange(0, 0, 0, 0)\n",
    "outMIDI.addProgramChange(1, 1, 0, 45)\n",
    "\n",
    "track = 0\n",
    "channel = 0\n",
    "for i, pitch in enumerate(hightemp_degrees):\n",
    "    outMIDI.addNote(track, channel, pitch, time + i, duration, volume)\n",
    "\n",
    "running_duration = 1\n",
    "pitch_first_time = 0\n",
    "track = 0\n",
    "channel = 0\n",
    "for i in range(len(maxprecip_degrees) - 1):\n",
    "    pitch = maxprecip_degrees[i]\n",
    "    next_pitch = maxprecip_degrees[i+1]\n",
    "    if (pitch != next_pitch) or (i % 4 == 3):\n",
    "        outMIDI.addNote(track, channel, pitch + 10, pitch_first_time, running_duration, round(volume*2/3))\n",
    "        running_duration = 1\n",
    "        pitch_first_time = i + 1\n",
    "    else:\n",
    "        running_duration += 1\n",
    "\n",
    "running_duration = 1\n",
    "pitch_first_time = 0\n",
    "track = 1\n",
    "channel = 1\n",
    "for i in range(len(lowtemp_degrees) - 1):\n",
    "    pitch = lowtemp_degrees[i]\n",
    "    next_pitch = lowtemp_degrees[i+1]\n",
    "    if (pitch != next_pitch) or (i % 4 == 3):\n",
    "        outMIDI.addNote(track, channel, pitch + 35, pitch_first_time, running_duration, round(volume*1))\n",
    "        running_duration = 1\n",
    "        pitch_first_time = i + 1\n",
    "    else:\n",
    "        running_duration += 1"
   ]
  },
  {
   "cell_type": "code",
   "execution_count": 92,
   "metadata": {},
   "outputs": [],
   "source": [
    "ofile = open('seattle.mid', 'wb')\n",
    "outMIDI.writeFile(ofile)\n",
    "ofile.close()"
   ]
  },
  {
   "cell_type": "code",
   "execution_count": null,
   "metadata": {},
   "outputs": [],
   "source": []
  }
 ],
 "metadata": {
  "extensions": {
   "jupyter_dashboards": {
    "activeView": "grid_default",
    "version": 1,
    "views": {
     "grid_default": {
      "cellMargin": 10,
      "defaultCellHeight": 20,
      "maxColumns": 12,
      "name": "grid",
      "type": "grid"
     },
     "report_default": {
      "name": "report",
      "type": "report"
     }
    }
   }
  },
  "kernelspec": {
   "display_name": "Python 3",
   "language": "python",
   "name": "python3"
  },
  "language_info": {
   "codemirror_mode": {
    "name": "ipython",
    "version": 3
   },
   "file_extension": ".py",
   "mimetype": "text/x-python",
   "name": "python",
   "nbconvert_exporter": "python",
   "pygments_lexer": "ipython3",
   "version": "3.8.5"
  }
 },
 "nbformat": 4,
 "nbformat_minor": 4
}
